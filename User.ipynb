{
 "cells": [
  {
   "cell_type": "code",
   "execution_count": 30,
   "id": "79855e2d",
   "metadata": {},
   "outputs": [],
   "source": [
    "import joblib\n",
    "import warnings\n",
    "warnings.simplefilter(action='ignore')"
   ]
  },
  {
   "cell_type": "code",
   "execution_count": 31,
   "id": "2d22b5d5",
   "metadata": {},
   "outputs": [
    {
     "data": {
      "text/plain": [
       "23"
      ]
     },
     "execution_count": 31,
     "metadata": {},
     "output_type": "execute_result"
    }
   ],
   "source": [
    "len([1,0,0,0,0,0,0,0,0,0,0,0,0,0,0,0,0,0,0,0,0,0,0])"
   ]
  },
  {
   "cell_type": "code",
   "execution_count": 32,
   "id": "898d7286",
   "metadata": {},
   "outputs": [],
   "source": [
    "def models(x):\n",
    "    if x == '2 Series':\n",
    "        return[1,0,0,0,0,0,0,0,0,0,0,0,0,0,0,0,0,0,0,0,0,0,0]\n",
    "\n",
    "    elif x == '3 Series':\n",
    "        return[0,1,0,0,0,0,0,0,0,0,0,0,0,0,0,0,0,0,0,0,0,0,0]\n",
    "\n",
    "    elif x == '4 Series':\n",
    "        return[0,0,1,0,0,0,0,0,0,0,0,0,0,0,0,0,0,0,0,0,0,0,0]\n",
    "\n",
    "    elif x == '5 Series':\n",
    "        return[0,0,0,1,0,0,0,0,0,0,0,0,0,0,0,0,0,0,0,0,0,0,0]\n",
    "\n",
    "    elif x == '6 Series':\n",
    "        return[0,0,0,0,1,0,0,0,0,0,0,0,0,0,0,0,0,0,0,0,0,0,0]\n",
    "\n",
    "    elif x == '7 Series':\n",
    "        return[0,0,0,0,0,1,0,0,0,0,0,0,0,0,0,0,0,0,0,0,0,0,0]\n",
    "\n",
    "    elif x == '8 Series':\n",
    "        return[0,0,0,0,0,0,1,0,0,0,0,0,0,0,0,0,0,0,0,0,0,0,0]\n",
    "\n",
    "    elif x == 'M2':\n",
    "        return[0,0,0,0,0,0,0,1,0,0,0,0,0,0,0,0,0,0,0,0,0,0,0]\n",
    "\n",
    "    elif x == 'M3':        \n",
    "        return[0,0,0,0,0,0,0,0,1,0,0,0,0,0,0,0,0,0,0,0,0,0,0]\n",
    "\n",
    "    elif x == 'M4':\n",
    "        return[0,0,0,0,0,0,0,0,0,1,0,0,0,0,0,0,0,0,0,0,0,0,0]\n",
    "\n",
    "    elif x == 'M5':\n",
    "        return[0,0,0,0,0,0,0,0,0,0,1,0,0,0,0,0,0,0,0,0,0,0,0]\n",
    "\n",
    "    elif x == 'M6':\n",
    "        return[0,0,0,0,0,0,0,0,0,0,0,1,0,0,0,0,0,0,0,0,0,0,0]\n",
    "\n",
    "    elif x == 'X1':\n",
    "        return[0,0,0,0,0,0,0,0,0,0,0,0,1,0,0,0,0,0,0,0,0,0,0]\n",
    "\n",
    "    elif x == 'X2':\n",
    "        return[0,0,0,0,0,0,0,0,0,0,0,0,0,1,0,0,0,0,0,0,0,0,0]\n",
    "\n",
    "    elif x == 'X3':\n",
    "        return[0,0,0,0,0,0,0,0,0,0,0,0,0,0,1,0,0,0,0,0,0,0,0]\n",
    "\n",
    "    elif x == 'X4':\n",
    "        return[0,0,0,0,0,0,0,0,0,0,0,0,0,0,0,1,0,0,0,0,0,0,0]\n",
    "\n",
    "    elif x == 'X5':\n",
    "        return[0,0,0,0,0,0,0,0,0,0,0,0,0,0,0,0,1,0,0,0,0,0,0]\n",
    "\n",
    "    elif x == 'X6':\n",
    "        return[0,0,0,0,0,0,0,0,0,0,0,0,0,0,0,0,0,1,0,0,0,0,0]\n",
    "\n",
    "    elif x == 'X7':\n",
    "        return[0,0,0,0,0,0,0,0,0,0,0,0,0,0,0,0,0,0,1,0,0,0,0]\n",
    "\n",
    "    elif x == 'Z3':\n",
    "        return[0,0,0,0,0,0,0,0,0,0,0,0,0,0,0,0,0,0,0,1,0,0,0]\n",
    "\n",
    "    elif x == 'Z4':\n",
    "        return[0,0,0,0,0,0,0,0,0,0,0,0,0,0,0,0,0,0,0,0,1,0,0]\n",
    "\n",
    "    elif x == 'i3':\n",
    "        return[0,0,0,0,0,0,0,0,0,0,0,0,0,0,0,0,0,0,0,0,0,1,0]\n",
    "\n",
    "    elif x == 'i8':\n",
    "        return[0,0,0,0,0,0,0,0,0,0,0,0,0,0,0,0,0,0,0,0,0,0,1]\n",
    "\n",
    "    else:\n",
    "        return[0,0,0,0,0,0,0,0,0,0,0,0,0,0,0,0,0,0,0,0,0,0,0]\n"
   ]
  },
  {
   "cell_type": "code",
   "execution_count": 33,
   "id": "82cc50a5",
   "metadata": {},
   "outputs": [],
   "source": [
    "def transmissions(x):\n",
    "    if x == 'Manual':\n",
    "        return[1,0]\n",
    "    elif x == 'Semi-Auto':\n",
    "        return[0,1]\n",
    "    else:\n",
    "        return[0,0]"
   ]
  },
  {
   "cell_type": "code",
   "execution_count": 34,
   "id": "40081f0b",
   "metadata": {},
   "outputs": [],
   "source": [
    "def fuelTypes(x):\n",
    "    if x == 'Electric':\n",
    "        return [1,0,0,0]\n",
    "    elif x == 'Hybrid':\n",
    "        return[0,1,0,0]\n",
    "    elif x == 'Other':\n",
    "        return[0,0,1,0]\n",
    "    elif x == 'Petrol':\n",
    "        return[0,0,0,1]\n",
    "    else:\n",
    "        return[0,0,0,0]"
   ]
  },
  {
   "cell_type": "code",
   "execution_count": 35,
   "id": "1d9e02b8",
   "metadata": {},
   "outputs": [],
   "source": [
    "def User(data):\n",
    "    \n",
    "    year = data['year']\n",
    "    mileage = data['mileage']\n",
    "    tax = data['tax']\n",
    "    mpg = data['mpg']\n",
    "    engineSize = data['engineSize']\n",
    "    model = models(data['model'])\n",
    "    transmission = transmissions(data['transmission'])\n",
    "    fuelType = fuelTypes(data['fuelType'])\n",
    "    \n",
    "    Final_Data= [year, mileage, tax, mpg, engineSize] + model + transmission + fuelType\n",
    "    return Final_Data"
   ]
  },
  {
   "cell_type": "code",
   "execution_count": 36,
   "id": "df104a61",
   "metadata": {},
   "outputs": [],
   "source": [
    "data =  {'year':2017, 'mileage':30000, 'tax':200, 'mpg':100, 'engineSize':4, 'model':'M4',\n",
    "         'transmission':'Manual', 'fuelType':'Petrol'}"
   ]
  },
  {
   "cell_type": "code",
   "execution_count": 37,
   "id": "ad8a7e49",
   "metadata": {},
   "outputs": [
    {
     "name": "stdout",
     "output_type": "stream",
     "text": [
      "[2017, 30000, 200, 100, 4, 0, 0, 0, 0, 0, 0, 0, 0, 0, 1, 0, 0, 0, 0, 0, 0, 0, 0, 0, 0, 0, 0, 0, 1, 0, 0, 0, 0, 1]\n",
      "\n",
      "34\n"
     ]
    }
   ],
   "source": [
    "Final_Data  = User(data)\n",
    "print((Final_Data))\n",
    "print()\n",
    "print(len(Final_Data))"
   ]
  },
  {
   "cell_type": "code",
   "execution_count": 38,
   "id": "e302bdc1",
   "metadata": {},
   "outputs": [],
   "source": [
    "model = joblib.load('Models/model.h5')\n",
    "scaler = joblib.load('Models/scaler.h5')"
   ]
  },
  {
   "cell_type": "code",
   "execution_count": 39,
   "id": "090f176c",
   "metadata": {},
   "outputs": [
    {
     "data": {
      "text/plain": [
       "array([[-0.02789963,  0.17644282,  1.10362727,  1.41772341,  3.33275074,\n",
       "        -0.35702611, -0.53802759, -0.3153396 , -0.33087995, -0.10326896,\n",
       "        -0.10095015, -0.05908306, -0.04444251, -0.05057217,  9.27960727,\n",
       "        -0.05171177, -0.02638593, -0.28527059, -0.16810121, -0.23103529,\n",
       "        -0.1334965 , -0.21763406, -0.09553574, -0.0724249 , -0.02638593,\n",
       "        -0.09615182, -0.06197765, -0.03885482,  1.79535804, -0.86664063,\n",
       "        -0.01865442, -0.16846553, -0.05391952,  1.46541641]])"
      ]
     },
     "execution_count": 39,
     "metadata": {},
     "output_type": "execute_result"
    }
   ],
   "source": [
    "Final_Data = scaler.transform([Final_Data])\n",
    "Final_Data"
   ]
  },
  {
   "cell_type": "code",
   "execution_count": 42,
   "id": "399da312",
   "metadata": {},
   "outputs": [
    {
     "name": "stdout",
     "output_type": "stream",
     "text": [
      "20883.654\n"
     ]
    }
   ],
   "source": [
    "print(model.predict(Final_Data)[0])"
   ]
  },
  {
   "cell_type": "code",
   "execution_count": null,
   "id": "681f7281",
   "metadata": {},
   "outputs": [],
   "source": []
  }
 ],
 "metadata": {
  "kernelspec": {
   "display_name": "Python 3",
   "language": "python",
   "name": "python3"
  },
  "language_info": {
   "codemirror_mode": {
    "name": "ipython",
    "version": 3
   },
   "file_extension": ".py",
   "mimetype": "text/x-python",
   "name": "python",
   "nbconvert_exporter": "python",
   "pygments_lexer": "ipython3",
   "version": "3.10.4"
  },
  "vscode": {
   "interpreter": {
    "hash": "26de051ba29f2982a8de78e945f0abaf191376122a1563185a90213a26c5da77"
   }
  }
 },
 "nbformat": 4,
 "nbformat_minor": 5
}
